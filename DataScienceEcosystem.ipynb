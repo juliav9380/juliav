{
 "cells": [
  {
   "cell_type": "markdown",
   "id": "1b74a4dc-1363-43de-93fa-ddfdca9e27a0",
   "metadata": {},
   "source": [
    "# Data Science Tools and Ecosystem"
   ]
  },
  {
   "cell_type": "markdown",
   "id": "24a4d240-412e-444c-aa1a-f8effd4d8daa",
   "metadata": {},
   "source": [
    "In this notebook, Data Science Tools and Ecosystem are summarized."
   ]
  },
  {
   "cell_type": "markdown",
   "id": "b713bc48-49cc-43d8-819a-c1fbc86230f4",
   "metadata": {},
   "source": [
    "**Objectives:**\n",
    "- List popular lanuguages for Data Science\n",
    "- List tools for Data Science\n",
    "- Create a Jupyter Notebook\n",
    "- Insert code and markdown cells"
   ]
  },
  {
   "cell_type": "code",
   "execution_count": null,
   "id": "5ae400f1-3b43-45e6-8658-eb16529626d6",
   "metadata": {},
   "outputs": [],
   "source": [
    "## Author\n",
    "Julia"
   ]
  },
  {
   "cell_type": "markdown",
   "id": "0460f5dc-3183-4ba0-bff8-bc9373a9d4d5",
   "metadata": {},
   "source": [
    "Some of the popular languages that Data Scientists use are:\n",
    "1. Python\n",
    "2. R\n",
    "3. SQL"
   ]
  },
  {
   "cell_type": "markdown",
   "id": "945eed46-880f-4eea-9617-b58493a8936c",
   "metadata": {},
   "source": [
    "Some of the commonly used libraries used by Data Scientists include:\n",
    "1. NumPy\n",
    "2. SciPy\n",
    "3. Pandas"
   ]
  },
  {
   "cell_type": "markdown",
   "id": "414ef5db-8cdd-4efd-910a-3f40a8764ae1",
   "metadata": {},
   "source": [
    "| Data Science Tools |\n",
    "|:--------:|\n",
    "|  RStudio  |\n",
    "|  Jupyter Notebooks  |\n",
    "|  JupyterLab  |"
   ]
  },
  {
   "cell_type": "markdown",
   "id": "31407e40-aa49-4693-b26f-540464c58356",
   "metadata": {},
   "source": [
    "### Below are a few examples of arithmetic expressions in Python"
   ]
  },
  {
   "cell_type": "markdown",
   "id": "3c598233-9c12-449a-a212-6fae29b310b5",
   "metadata": {},
   "source": [
    "This is a simple arithmetic expression to multiply then add integers"
   ]
  },
  {
   "cell_type": "code",
   "execution_count": 1,
   "id": "1e0ddcf6-3ee7-461a-9444-6b8d8ca50ce0",
   "metadata": {
    "tags": []
   },
   "outputs": [
    {
     "data": {
      "text/plain": [
       "17"
      ]
     },
     "execution_count": 1,
     "metadata": {},
     "output_type": "execute_result"
    }
   ],
   "source": [
    "(3*4)+5"
   ]
  },
  {
   "cell_type": "markdown",
   "id": "23fb8754-ec80-4072-95c4-d557b910e847",
   "metadata": {},
   "source": [
    "This will convert 200 minutes to hours by dividing by 60"
   ]
  },
  {
   "cell_type": "code",
   "execution_count": 3,
   "id": "596871bb-4dba-421b-8e6f-6d0f0442a885",
   "metadata": {
    "tags": []
   },
   "outputs": [
    {
     "data": {
      "text/plain": [
       "3.3333333333333335"
      ]
     },
     "execution_count": 3,
     "metadata": {},
     "output_type": "execute_result"
    }
   ],
   "source": [
    "200/60"
   ]
  },
  {
   "cell_type": "markdown",
   "id": "65712c5b-3486-4034-833c-db40ec037e82",
   "metadata": {},
   "source": []
  }
 ],
 "metadata": {
  "kernelspec": {
   "display_name": "Python",
   "language": "python",
   "name": "conda-env-python-py"
  },
  "language_info": {
   "codemirror_mode": {
    "name": "ipython",
    "version": 3
   },
   "file_extension": ".py",
   "mimetype": "text/x-python",
   "name": "python",
   "nbconvert_exporter": "python",
   "pygments_lexer": "ipython3",
   "version": "3.7.12"
  }
 },
 "nbformat": 4,
 "nbformat_minor": 5
}
